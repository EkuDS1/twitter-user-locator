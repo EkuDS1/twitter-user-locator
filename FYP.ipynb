{
  "cells": [
    {
      "cell_type": "markdown",
      "metadata": {
        "id": "view-in-github",
        "colab_type": "text"
      },
      "source": [
        "<a href=\"https://colab.research.google.com/github/EkuDS1/twitter-user-locator/blob/main/FYP.ipynb\" target=\"_parent\"><img src=\"https://colab.research.google.com/assets/colab-badge.svg\" alt=\"Open In Colab\"/></a>"
      ]
    },
    {
      "cell_type": "markdown",
      "metadata": {
        "id": "qwG4XWAUgfho"
      },
      "source": [
        "# Load Libraries"
      ]
    },
    {
      "cell_type": "code",
      "execution_count": null,
      "metadata": {
        "colab": {
          "base_uri": "https://localhost:8080/"
        },
        "id": "rfmsjhXGMIa2",
        "outputId": "8d512559-9c5d-4c1a-fe46-0f7a6f23a22c"
      },
      "outputs": [
        {
          "output_type": "stream",
          "name": "stdout",
          "text": [
            "Requirement already satisfied: gensim in /usr/local/lib/python3.7/dist-packages (4.1.2)\n",
            "Requirement already satisfied: smart-open>=1.8.1 in /usr/local/lib/python3.7/dist-packages (from gensim) (5.2.1)\n",
            "Requirement already satisfied: numpy>=1.17.0 in /usr/local/lib/python3.7/dist-packages (from gensim) (1.21.5)\n",
            "Requirement already satisfied: scipy>=0.18.1 in /usr/local/lib/python3.7/dist-packages (from gensim) (1.4.1)\n"
          ]
        }
      ],
      "source": [
        "# Make sure gensim version is 4.x.x\n",
        "!pip install gensim --upgrade\n",
        "!pip install -q -U \"tensorflow-text==2.8.*\"\n",
        "!pip install -q tf-models-official==2.7.0"
      ]
    },
    {
      "cell_type": "code",
      "execution_count": null,
      "metadata": {
        "id": "9lOC4Mfmgfhr"
      },
      "outputs": [],
      "source": [
        "import os\n",
        "import shutil\n",
        "from pathlib import Path\n",
        "import csv\n",
        "\n",
        "import numpy as np # linear algebra\n",
        "import pandas as pd # data processing, CSV file I/O (e.g. pd.read_csv)\n",
        "from gensim.models import FastText # For getting trained word embeddings\n",
        "\n",
        "# used for deep learning\n",
        "import tensorflow as tf\n",
        "import tensorflow.keras.layers as tfl\n",
        "from tensorflow.keras.regularizers import l1\n",
        "import tensorflow.keras.backend as K\n",
        "import tensorflow_hub as hub\n",
        "import tensorflow_text as text\n",
        "from official.nlp import optimization  # to create AdamW optimizer\n",
        "\n",
        "\n",
        "# getting rid of Tensorflow warnings\n",
        "os.environ['TF_CPP_MIN_LOG_LEVEL'] = '3'"
      ]
    },
    {
      "cell_type": "code",
      "execution_count": null,
      "metadata": {
        "colab": {
          "base_uri": "https://localhost:8080/"
        },
        "id": "WKJmsmVyhn0p",
        "outputId": "ca997938-4329-49a1-cb53-881275364de2"
      },
      "outputs": [
        {
          "output_type": "stream",
          "name": "stdout",
          "text": [
            "Drive already mounted at /content/drive; to attempt to forcibly remount, call drive.mount(\"/content/drive\", force_remount=True).\n"
          ]
        }
      ],
      "source": [
        "# mount google drive\n",
        "from google.colab import drive\n",
        "drive.mount('/content/drive')"
      ]
    },
    {
      "cell_type": "markdown",
      "metadata": {
        "id": "VRTmgsY9gfhw"
      },
      "source": [
        "# Data Preprocessing\n",
        "### Load Data\n",
        "Defines function that load the data and returns it as tensors of latitude, longitude and all tweets for a twitter user. Also defines function that optimizes datasets."
      ]
    },
    {
      "cell_type": "code",
      "execution_count": null,
      "metadata": {
        "id": "r9wDWfrVgfhy"
      },
      "outputs": [],
      "source": [
        "# Code for optimizing dataset performance\n",
        "AUTOTUNE = tf.data.AUTOTUNE\n",
        "def configure_dataset(dataset):\n",
        "  return dataset.cache().prefetch(buffer_size=AUTOTUNE)\n",
        "\n",
        "# Load file and return datasets for text and location and their combined training dataset\n",
        "def loadData(data_path):\n",
        "    df = pd.read_csv(data_path, delimiter='\\t', encoding='utf-8', names=['user', 'lat', 'lon', 'text'],\n",
        "                     quoting=csv.QUOTE_NONE, on_bad_lines='skip')\n",
        "    \n",
        "    # Normalize coordinates so that mean is 0 and std is 1\n",
        "    # df[['lat', 'lon']] = (df[['lat', 'lon']]-df[['lat', 'lon']].mean())/df[['lat', 'lon']].std()\n",
        "\n",
        "    # Get latitude, longitude and tweets separately\n",
        "    lat = df['lat']\n",
        "    lon = df ['lon']\n",
        "    text = df ['text']\n",
        "    \n",
        "    # Remove ||| separator and replace with space\n",
        "    text = text.str.lstrip(\" |\")\n",
        "    text = text.str.replace(\" \\|\\|\\| \", \" \", regex=True)\n",
        "    \n",
        "    # Convert all to tensor and return\n",
        "    lat = tf.convert_to_tensor(lat)\n",
        "    lon = tf.convert_to_tensor(lon)\n",
        "    text = tf.convert_to_tensor(text)\n",
        "    \n",
        "    # Convert to text dataset and location dataset respectively\n",
        "    text_ds = tf.data.Dataset.from_tensor_slices(text)\n",
        "    location_ds = tf.data.Dataset.from_tensor_slices((lat, lon))\n",
        "    trainingData = tf.data.Dataset.zip((text_ds, location_ds))\n",
        "\n",
        "    # Configure datasets for performance\n",
        "    text_ds = configure_dataset(text_ds)\n",
        "    location_ds = configure_dataset(location_ds)\n",
        "    trainingData = configure_dataset(trainingData)\n",
        "    \n",
        "    # Return datasets\n",
        "    return text_ds, location_ds, trainingData"
      ]
    },
    {
      "cell_type": "markdown",
      "metadata": {
        "id": "ayPuPgXPgfh0"
      },
      "source": [
        "Tensors are then turned into datasets that can be split into batches."
      ]
    },
    {
      "cell_type": "code",
      "execution_count": null,
      "metadata": {
        "id": "NHP7vPNKgfh1"
      },
      "outputs": [],
      "source": [
        "current_dir = Path('/content/drive/My Drive/')\n",
        "data_path = current_dir / 'geoworld/user_info.dev'\n",
        "output_path = current_dir / 'dev_output'\n",
        "embeddings_path = output_path / 'embeddings-dev.model'\n",
        "\n",
        "# Get datasets from data file\n",
        "text_ds, location_ds, trainingData = loadData(data_path)"
      ]
    },
    {
      "cell_type": "markdown",
      "source": [
        "### BERT Model"
      ],
      "metadata": {
        "id": "K0ovSLMN1w9n"
      }
    },
    {
      "cell_type": "code",
      "source": [
        "tfhub_handle_encoder = 'https://tfhub.dev/tensorflow/small_bert/bert_en_uncased_L-4_H-512_A-8/1'\n",
        "tfhub_handle_preprocess = 'https://tfhub.dev/tensorflow/bert_en_uncased_preprocess/3'"
      ],
      "metadata": {
        "id": "3BPYtAUd1TkH"
      },
      "execution_count": null,
      "outputs": []
    },
    {
      "cell_type": "code",
      "source": [
        "bert_preprocess_model = hub.KerasLayer(tfhub_handle_preprocess)"
      ],
      "metadata": {
        "id": "bhfLAwsR1zX8"
      },
      "execution_count": null,
      "outputs": []
    },
    {
      "cell_type": "markdown",
      "metadata": {
        "id": "8hYQV2_vgfh6"
      },
      "source": [
        "# Create Model"
      ]
    },
    {
      "cell_type": "code",
      "execution_count": null,
      "metadata": {
        "id": "7yB84fvZTiTo"
      },
      "outputs": [],
      "source": [
        "def build_classifier_model():\n",
        "    text_input = tf.keras.layers.Input(shape=(), dtype=tf.string, name='text')\n",
        "    preprocessing_layer = hub.KerasLayer(tfhub_handle_preprocess, name='preprocessing')\n",
        "    encoder_inputs = preprocessing_layer(text_input)\n",
        "    encoder = hub.KerasLayer(tfhub_handle_encoder, trainable=True, name='BERT_encoder')\n",
        "    outputs = encoder(encoder_inputs)\n",
        "    net = outputs['pooled_output']\n",
        "    net = tf.keras.layers.Dropout(0.1)(net)\n",
        "    out_lat = tf.keras.layers.Dense(1, activation=None, name='latitude')(net)\n",
        "    out_lon = tf.keras.layers.Dense(1, activation=None, name='longitude')(net)\n",
        "    return tf.keras.Model(text_input, [out_lat, out_lon])\n",
        "\n",
        "\n",
        "\n",
        "def tilted_loss(y,f):\n",
        "    q = 0.5\n",
        "    e = (y-f)\n",
        "    return K.mean(K.maximum(q*e, (q-1)*e), axis=-1)"
      ]
    },
    {
      "cell_type": "code",
      "execution_count": null,
      "metadata": {
        "colab": {
          "base_uri": "https://localhost:8080/",
          "height": 947
        },
        "id": "XQpgnXx5gfh7",
        "outputId": "5e545e55-840d-47d2-d0fc-fc8d9e382667"
      },
      "outputs": [
        {
          "output_type": "stream",
          "name": "stdout",
          "text": [
            "Model: \"model_4\"\n",
            "__________________________________________________________________________________________________\n",
            " Layer (type)                   Output Shape         Param #     Connected to                     \n",
            "==================================================================================================\n",
            " text (InputLayer)              [(None,)]            0           []                               \n",
            "                                                                                                  \n",
            " preprocessing (KerasLayer)     {'input_type_ids':   0           ['text[0][0]']                   \n",
            "                                (None, 128),                                                      \n",
            "                                 'input_word_ids':                                                \n",
            "                                (None, 128),                                                      \n",
            "                                 'input_mask': (Non                                               \n",
            "                                e, 128)}                                                          \n",
            "                                                                                                  \n",
            " BERT_encoder (KerasLayer)      {'sequence_output':  28763649    ['preprocessing[0][0]',          \n",
            "                                 (None, 128, 512),                'preprocessing[0][1]',          \n",
            "                                 'encoder_outputs':               'preprocessing[0][2]']          \n",
            "                                 [(None, 128, 512),                                               \n",
            "                                 (None, 128, 512),                                                \n",
            "                                 (None, 128, 512),                                                \n",
            "                                 (None, 128, 512)],                                               \n",
            "                                 'pooled_output': (                                               \n",
            "                                None, 512),                                                       \n",
            "                                 'default': (None,                                                \n",
            "                                512)}                                                             \n",
            "                                                                                                  \n",
            " dropout_4 (Dropout)            (None, 512)          0           ['BERT_encoder[0][5]']           \n",
            "                                                                                                  \n",
            " latitude (Dense)               (None, 1)            513         ['dropout_4[0][0]']              \n",
            "                                                                                                  \n",
            " longitude (Dense)              (None, 1)            513         ['dropout_4[0][0]']              \n",
            "                                                                                                  \n",
            "==================================================================================================\n",
            "Total params: 28,764,675\n",
            "Trainable params: 28,764,674\n",
            "Non-trainable params: 1\n",
            "__________________________________________________________________________________________________\n"
          ]
        },
        {
          "output_type": "execute_result",
          "data": {
            "text/plain": [
              "<IPython.core.display.Image object>"
            ],
            "image/png": "[encoded data removed]"
          },
          "metadata": {},
          "execution_count": 47
        }
      ],
      "source": [
        "# Make model\n",
        "classifier_model = build_classifier_model()\n",
        "\n",
        "loss = tilted_loss\n",
        "epochs = 5\n",
        "steps_per_epoch = tf.data.experimental.cardinality(trainingData).numpy()\n",
        "num_train_steps = steps_per_epoch * epochs\n",
        "num_warmup_steps = int(0.1*num_train_steps)\n",
        "\n",
        "init_lr = 3e-5\n",
        "optimizer = optimization.create_optimizer(init_lr=init_lr,\n",
        "                                          num_train_steps=num_train_steps,\n",
        "                                          num_warmup_steps=num_warmup_steps,\n",
        "                                          optimizer_type='adamw')\n",
        "\n",
        "classifier_model.compile(optimizer=optimizer, loss=loss)\n",
        "\n",
        "classifier_model.summary()\n",
        "tf.keras.utils.plot_model(classifier_model, \"multi_input_and_output_model.png\", show_shapes=True)"
      ]
    },
    {
      "cell_type": "markdown",
      "metadata": {
        "id": "bM_seoCpgfh9"
      },
      "source": [
        "# Train Model"
      ]
    },
    {
      "cell_type": "code",
      "execution_count": null,
      "metadata": {
        "colab": {
          "base_uri": "https://localhost:8080/"
        },
        "id": "hNYu7Gfpgfh9",
        "outputId": "9929bf2c-c4c4-4e62-c069-a87da81a5625"
      },
      "outputs": [
        {
          "output_type": "stream",
          "name": "stdout",
          "text": [
            "Epoch 1/10\n",
            "313/313 [==============================] - 53s 169ms/step - loss: 40.2315 - latitude_loss: 7.5002 - longitude_loss: 32.7312\n",
            "Epoch 2/10\n",
            "313/313 [==============================] - 52s 168ms/step - loss: 39.1444 - latitude_loss: 7.1338 - longitude_loss: 32.0106\n",
            "Epoch 3/10\n",
            "313/313 [==============================] - 53s 169ms/step - loss: 37.9213 - latitude_loss: 6.7534 - longitude_loss: 31.1679\n",
            "Epoch 4/10\n",
            "313/313 [==============================] - 53s 168ms/step - loss: 36.6732 - latitude_loss: 6.4009 - longitude_loss: 30.2724\n",
            "Epoch 5/10\n",
            "313/313 [==============================] - 52s 166ms/step - loss: 35.3247 - latitude_loss: 6.0501 - longitude_loss: 29.2745\n",
            "Epoch 6/10\n",
            "313/313 [==============================] - 52s 165ms/step - loss: 33.9896 - latitude_loss: 5.7792 - longitude_loss: 28.2104\n",
            "Epoch 7/10\n",
            "313/313 [==============================] - 52s 166ms/step - loss: 32.5516 - latitude_loss: 5.4544 - longitude_loss: 27.0971\n",
            "Epoch 8/10\n",
            "313/313 [==============================] - 52s 166ms/step - loss: 30.8450 - latitude_loss: 5.0770 - longitude_loss: 25.7679\n",
            "Epoch 9/10\n",
            "313/313 [==============================] - 52s 166ms/step - loss: 29.2604 - latitude_loss: 4.7269 - longitude_loss: 24.5336\n",
            "Epoch 10/10\n",
            "313/313 [==============================] - 52s 166ms/step - loss: 27.7808 - latitude_loss: 4.5452 - longitude_loss: 23.2357\n"
          ]
        }
      ],
      "source": [
        "batch_size = 32\n",
        "\n",
        "history = classifier_model.fit(x=trainingData.batch(batch_size),\n",
        "                               epochs=10)"
      ]
    },
    {
      "cell_type": "markdown",
      "metadata": {
        "id": "kxNYGyFhiCM1"
      },
      "source": [
        "## Evaluate on Dev set"
      ]
    },
    {
      "cell_type": "code",
      "execution_count": null,
      "metadata": {
        "colab": {
          "base_uri": "https://localhost:8080/"
        },
        "id": "_bjVaIANh7Uh",
        "outputId": "ffd77629-93b1-461c-fb48-045f639ef819"
      },
      "outputs": [
        {
          "output_type": "stream",
          "name": "stdout",
          "text": [
            "100/100 [==============================] - 56s 552ms/step - loss: 26.8162 - latitude_loss: 4.3262 - longitude_loss: 22.4901\n"
          ]
        },
        {
          "output_type": "execute_result",
          "data": {
            "text/plain": [
              "[26.816238403320312, 4.326155662536621, 22.490083694458008]"
            ]
          },
          "metadata": {},
          "execution_count": 54
        }
      ],
      "source": [
        "# get dev set\n",
        "data_path = current_dir / Path('geoworld/user_info.dev')\n",
        "\n",
        "# Get datasets from dev file\n",
        "text_ds_test, location_ds_test, testData = loadData(data_path)\n",
        "\n",
        "classifier_model.evaluate(testData.batch(100))"
      ]
    },
    {
      "cell_type": "markdown",
      "metadata": {
        "id": "dTq9dWsuiGeF"
      },
      "source": [
        "## Evaluate on Test set"
      ]
    },
    {
      "cell_type": "code",
      "execution_count": null,
      "metadata": {
        "colab": {
          "base_uri": "https://localhost:8080/"
        },
        "id": "ffqLcwgpgfh-",
        "outputId": "d9330bf2-97f9-4483-fb7f-8cd8c64bbe79"
      },
      "outputs": [
        {
          "output_type": "stream",
          "name": "stdout",
          "text": [
            "100/100 [==============================] - 50s 499ms/step - loss: 29.9061 - latitude_loss: 5.0921 - longitude_loss: 24.8140\n"
          ]
        },
        {
          "output_type": "execute_result",
          "data": {
            "text/plain": [
              "[29.906147003173828, 5.092135906219482, 24.81401252746582]"
            ]
          },
          "metadata": {},
          "execution_count": 55
        }
      ],
      "source": [
        "# get test set\n",
        "data_path = current_dir / Path('geoworld/user_info.test')\n",
        "\n",
        "# Get datasets from test file\n",
        "text_ds_test, location_ds_test, testData = loadData(data_path)\n",
        "  \n",
        "classifier_model.evaluate(testData.batch(100))"
      ]
    },
    {
      "cell_type": "markdown",
      "metadata": {
        "id": "ZsCQZd7NzTwL"
      },
      "source": [
        "## Check Predictions\n",
        "\n",
        "Check predictions for the first 20 samples in the training set."
      ]
    },
    {
      "cell_type": "code",
      "execution_count": null,
      "metadata": {
        "colab": {
          "base_uri": "https://localhost:8080/"
        },
        "id": "KSbnRy7_Foyv",
        "outputId": "15133e81-1f33-46b3-d5f0-e19400ac3dfb"
      },
      "outputs": [
        {
          "output_type": "stream",
          "name": "stdout",
          "text": [
            "[29.76328] [-95.36327]\n",
            "[32.29876] [-90.18481]\n",
            "[39.17316] [-77.27165]\n",
            "[51.51279] [-0.09184]\n",
            "[38.58157] [-121.4944]\n",
            "[-2.91673] [104.7458]\n",
            "[-0.8917] [119.8707]\n",
            "[39.04372] [-77.48749]\n",
            "[39.29038] [-76.61219]\n",
            "[44.97997] [-93.26384]\n",
            "[30.26715] [-97.74306]\n",
            "[30.69436] [-88.04305]\n",
            "[44.97997] [-93.26384]\n",
            "[39.70471] [-105.08137]\n",
            "[47.65966] [-117.42908]\n",
            "[-1.45583] [-48.50444]\n",
            "[-3.32442] [114.591]\n",
            "[30.69436] [-88.04305]\n",
            "[34.00071] [-81.03481]\n",
            "[55.86515] [-4.25763]\n"
          ]
        }
      ],
      "source": [
        "for item in trainingData.batch(1).take(20):\n",
        "  print(item[1][0].numpy(), item[1][1].numpy())"
      ]
    },
    {
      "cell_type": "code",
      "execution_count": null,
      "metadata": {
        "id": "gItNTVttmRPX"
      },
      "outputs": [],
      "source": [
        "pred = classifier_model.predict(trainingData.batch(1).take(20))"
      ]
    },
    {
      "cell_type": "code",
      "execution_count": null,
      "metadata": {
        "colab": {
          "base_uri": "https://localhost:8080/"
        },
        "id": "0g3j8YDVVwqv",
        "outputId": "44af378b-e9c3-47f0-9127-efddd72298d2"
      },
      "outputs": [
        {
          "output_type": "stream",
          "name": "stdout",
          "text": [
            "[34.67296] [-38.060333]\n",
            "[34.25962] [-38.167458]\n",
            "[35.619205] [-37.59237]\n",
            "[35.943703] [-2.3333967]\n",
            "[34.43249] [-38.128662]\n",
            "[-5.21128] [36.630085]\n",
            "[-3.0780537] [35.762787]\n",
            "[34.759457] [-38.034874]\n",
            "[34.500736] [-38.11055]\n",
            "[34.837944] [-38.000164]\n",
            "[34.48049] [-38.115856]\n",
            "[34.51208] [-38.10678]\n",
            "[34.40801] [-38.12793]\n",
            "[38.61683] [-11.789956]\n",
            "[35.664658] [-37.566334]\n",
            "[-2.8026283] [-32.344925]\n",
            "[-5.9863973] [36.859543]\n",
            "[35.339996] [-37.78062]\n",
            "[34.61176] [-38.08063]\n",
            "[36.682903] [-3.686323]\n"
          ]
        }
      ],
      "source": [
        "for i in range(len(pred[0])):\n",
        "  print(pred[0][i], pred[1][i])"
      ]
    },
    {
      "cell_type": "markdown",
      "metadata": {
        "id": "PigrGQSu7Ni7"
      },
      "source": [
        "## How many within 100 miles?\n",
        "\n",
        "Calculate what percentage of predictions are within 100 miles of their actual location."
      ]
    },
    {
      "cell_type": "code",
      "execution_count": null,
      "metadata": {
        "id": "NY4tgr2zAKP-"
      },
      "outputs": [],
      "source": [
        "def haversine_km(lat1, lon1, lat2, lon2):\n",
        "  R = 6372.795\n",
        "  dlat = math.radians(lat2-lat1)\n",
        "  dlon = math.radians(lon2-lon1)\n",
        "  a = math.sin(dlat/2) * math.sin(dlat/2) + math.cos(math.radians(lat1)) * math.cos(math.radians(lat2)) * math.sin(dlon/2) * math.sin(dlon/2)\n",
        "  c = 2 * math.atan2(math.sqrt(a), math.sqrt(1-a))\n",
        "  return R * c\n",
        "\n",
        "pred = model.predict(testData.batch(100))"
      ]
    },
    {
      "cell_type": "code",
      "execution_count": null,
      "metadata": {
        "id": "nZ93iKLxGSga"
      },
      "outputs": [],
      "source": [
        ""
      ]
    }
  ],
  "metadata": {
    "accelerator": "GPU",
    "colab": {
      "collapsed_sections": [],
      "name": "FYP.ipynb",
      "provenance": [],
      "authorship_tag": "ABX9TyOH99VtzmWkA5aRKDa9YoQ+",
      "include_colab_link": true
    },
    "kernelspec": {
      "display_name": "Python 3",
      "name": "python3"
    },
    "language_info": {
      "name": "python"
    }
  },
  "nbformat": 4,
  "nbformat_minor": 0
}