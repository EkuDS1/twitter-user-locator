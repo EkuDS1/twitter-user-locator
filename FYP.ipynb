{
  "cells": [
    {
      "cell_type": "markdown",
      "metadata": {
        "id": "view-in-github",
        "colab_type": "text"
      },
      "source": [
        "<a href=\"https://colab.research.google.com/github/EkuDS1/twitter-user-locator/blob/main/FYP.ipynb\" target=\"_parent\"><img src=\"https://colab.research.google.com/assets/colab-badge.svg\" alt=\"Open In Colab\"/></a>"
      ]
    },
    {
      "cell_type": "markdown",
      "metadata": {
        "id": "qwG4XWAUgfho"
      },
      "source": [
        "# Load Libraries"
      ]
    },
    {
      "cell_type": "code",
      "execution_count": null,
      "metadata": {
        "colab": {
          "base_uri": "https://localhost:8080/"
        },
        "id": "rfmsjhXGMIa2",
        "outputId": "b33a2a9a-d445-40c3-9126-104d7c0d7aa3"
      },
      "outputs": [
        {
          "name": "stdout",
          "output_type": "stream",
          "text": [
            "Requirement already satisfied: gensim in /usr/local/lib/python3.7/dist-packages (4.1.2)\n",
            "Requirement already satisfied: smart-open>=1.8.1 in /usr/local/lib/python3.7/dist-packages (from gensim) (5.2.1)\n",
            "Requirement already satisfied: scipy>=0.18.1 in /usr/local/lib/python3.7/dist-packages (from gensim) (1.4.1)\n",
            "Requirement already satisfied: numpy>=1.17.0 in /usr/local/lib/python3.7/dist-packages (from gensim) (1.21.5)\n"
          ]
        }
      ],
      "source": [
        "# Make sure gensim version is 4.x.x\n",
        "!pip install gensim --upgrade"
      ]
    },
    {
      "cell_type": "code",
      "execution_count": null,
      "metadata": {
        "id": "9lOC4Mfmgfhr"
      },
      "outputs": [],
      "source": [
        "import numpy as np # linear algebra\n",
        "import pandas as pd # data processing, CSV file I/O (e.g. pd.read_csv)\n",
        "from pathlib import Path\n",
        "import csv\n",
        "\n",
        "# For getting trained word embeddings\n",
        "from gensim.models import FastText\n",
        "\n",
        "# getting rid of Tensorflow warnings\n",
        "import os\n",
        "os.environ['TF_CPP_MIN_LOG_LEVEL'] = '3'\n",
        "\n",
        "# used for deep learning\n",
        "import tensorflow as tf\n",
        "import tensorflow.keras.layers as tfl\n",
        "from tensorflow.keras.regularizers import l1\n",
        "import tensorflow.keras.backend as K"
      ]
    },
    {
      "cell_type": "code",
      "execution_count": null,
      "metadata": {
        "colab": {
          "base_uri": "https://localhost:8080/"
        },
        "id": "WKJmsmVyhn0p",
        "outputId": "32ef984a-652b-4d43-df71-5d577ecf483f"
      },
      "outputs": [
        {
          "name": "stdout",
          "output_type": "stream",
          "text": [
            "Drive already mounted at /content/drive; to attempt to forcibly remount, call drive.mount(\"/content/drive\", force_remount=True).\n"
          ]
        }
      ],
      "source": [
        "# mount google drive\n",
        "from google.colab import drive\n",
        "drive.mount('/content/drive')"
      ]
    },
    {
      "cell_type": "markdown",
      "metadata": {
        "id": "VRTmgsY9gfhw"
      },
      "source": [
        "# Data Preprocessing\n",
        "### Load Data\n",
        "Defines function that load the data and returns it as tensors of latitude, longitude and all tweets for a twitter user. Also defines function that optimizes datasets."
      ]
    },
    {
      "cell_type": "code",
      "execution_count": null,
      "metadata": {
        "id": "r9wDWfrVgfhy"
      },
      "outputs": [],
      "source": [
        "# Code for optimizing dataset performance\n",
        "AUTOTUNE = tf.data.AUTOTUNE\n",
        "def configure_dataset(dataset):\n",
        "  return dataset.cache().prefetch(buffer_size=AUTOTUNE)\n",
        "\n",
        "# Load file and return datasets for text and location and their combined training dataset\n",
        "def loadData(data_path):\n",
        "    df = pd.read_csv(data_path, delimiter='\\t', encoding='utf-8', names=['user', 'lat', 'lon', 'text'],\n",
        "                     quoting=csv.QUOTE_NONE, on_bad_lines='skip')\n",
        "    \n",
        "    # Normalize coordinates so that mean is 0 and std is 1\n",
        "    # df[['lat', 'lon']] = (df[['lat', 'lon']]-df[['lat', 'lon']].mean())/df[['lat', 'lon']].std()\n",
        "\n",
        "    # Get latitude, longitude and tweets separately\n",
        "    lat = df['lat']\n",
        "    lon = df ['lon']\n",
        "    text = df ['text']\n",
        "    \n",
        "    # Remove ||| separator and replace with space\n",
        "    text = text.str.lstrip(\" |\")\n",
        "    text = text.str.replace(\" \\|\\|\\| \", \" \", regex=True)\n",
        "    \n",
        "    # Convert all to tensor and return\n",
        "    lat = tf.convert_to_tensor(lat)\n",
        "    lon = tf.convert_to_tensor(lon)\n",
        "    text = tf.convert_to_tensor(text)\n",
        "    \n",
        "    # Convert to text dataset and location dataset respectively\n",
        "    text_ds = tf.data.Dataset.from_tensor_slices(text)\n",
        "    location_ds = tf.data.Dataset.from_tensor_slices((lat, lon))\n",
        "    trainingData = tf.data.Dataset.zip((text_ds, location_ds))\n",
        "\n",
        "    # Configure datasets for performance\n",
        "    text_ds = configure_dataset(text_ds)\n",
        "    location_ds = configure_dataset(location_ds)\n",
        "    trainingData = configure_dataset(trainingData)\n",
        "    \n",
        "    # Return datasets\n",
        "    return text_ds, location_ds, trainingData"
      ]
    },
    {
      "cell_type": "markdown",
      "metadata": {
        "id": "ayPuPgXPgfh0"
      },
      "source": [
        "Tensors are then turned into datasets that can be split into batches."
      ]
    },
    {
      "cell_type": "code",
      "execution_count": null,
      "metadata": {
        "id": "NHP7vPNKgfh1"
      },
      "outputs": [],
      "source": [
        "current_dir = Path('/content/drive/My Drive/')\n",
        "data_path = current_dir / 'geoworld/user_info.dev'\n",
        "output_path = current_dir / 'dev_output'\n",
        "embeddings_path = output_path / 'embeddings-dev.model'\n",
        "\n",
        "# Get datasets from data file\n",
        "text_ds, location_ds, trainingData = loadData(data_path)"
      ]
    },
    {
      "cell_type": "markdown",
      "metadata": {
        "id": "3Q882wqugfh2"
      },
      "source": [
        "### Text Vectorization\n",
        "Now we have to convert each string of text in the data into an array of integers where every integer is an index that belongs to a word. This is done so that we can input data into our model."
      ]
    },
    {
      "cell_type": "code",
      "execution_count": null,
      "metadata": {
        "id": "b1J4N88vgfh2"
      },
      "outputs": [],
      "source": [
        "# Turns each string of text into an array of integers\n",
        "MAX_SEQUENCE_LENGTH = 250\n",
        "\n",
        "# Create TextVectorization layer and build vocabulary from dataset\n",
        "# This layer takes an input array of strings of shape (batch_size) and outputs arrays of shape (batch_size, MAX_SEQUENCE_LENGTH)\n",
        "vectorize_layer = tfl.TextVectorization(output_sequence_length=MAX_SEQUENCE_LENGTH)\n",
        "vectorize_layer.adapt(text_ds.batch(128))\n",
        "\n",
        "# Save vocabulary and vocabulary size\n",
        "vocab = vectorize_layer.get_vocabulary()\n",
        "VOCAB_SIZE = len(vocab)"
      ]
    },
    {
      "cell_type": "markdown",
      "metadata": {
        "id": "C8iL8a4Ggfh4"
      },
      "source": [
        "### Word Embeddings\n",
        "Next, we convert each integer in our data into a unique word embedding.  \n",
        "The following function gets embeddings for all the words in our dataset's vocabulary and returns it as a matrix."
      ]
    },
    {
      "cell_type": "code",
      "execution_count": null,
      "metadata": {
        "id": "WNub91OApboC"
      },
      "outputs": [],
      "source": [
        "# from gensim.test.utils import common_texts, get_tmpfile\n",
        "# from gensim.models.callbacks import CallbackAny2Vec\n",
        "# import time\n",
        "\n",
        "# class callback(CallbackAny2Vec):\n",
        "#     '''Callback to print loss after each epoch.'''\n",
        "\n",
        "#     def __init__(self):\n",
        "#         self.epoch = 0\n",
        "#         self.starttime = 0\n",
        "\n",
        "#     def on_epoch_begin(self, model):\n",
        "#         self.starttime = time.time()\n",
        "#         print(\"Epoch #{} start\".format(self.epoch))\n",
        "\n",
        "#     def on_epoch_end(self, model):\n",
        "#         print(\"Epoch #{} ended in time: {} minutes\".format(self.epoch, (time.time()-self.starttime)/60.0))\n",
        "#         self.epoch += 1"
      ]
    },
    {
      "cell_type": "code",
      "execution_count": null,
      "metadata": {
        "id": "4OvBXyr_gfh4"
      },
      "outputs": [],
      "source": [
        "# Gets embeddings for words in the dataset. This assumes that TextVectorization has already built a vocabulary.\n",
        "def get_embeddings(embed_path):\n",
        "    # Create lexicons of the words 1->and\n",
        "    word_index = dict(zip(vocab, range(VOCAB_SIZE)))\n",
        "    \n",
        "    ft_model = FastText.load(str(embed_path))\n",
        "    trained_embeddings = ft_model.wv\n",
        "    \n",
        "    embedding_dim = 100\n",
        "    hits = 0\n",
        "    misses = 0\n",
        "    \n",
        "    # Prepare embedding matrix by matching every word in embeddings with vectorizer\n",
        "    embedding_matrix = np.zeros((VOCAB_SIZE, embedding_dim))\n",
        "    for word, i in word_index.items():\n",
        "        embedding_vector = trained_embeddings.get_vector(word, norm=True)\n",
        "        \n",
        "        if embedding_vector is not None:\n",
        "        # Words not found in embedding index will be all-zeros.\n",
        "        # This includes the representation for \"padding\" and \"OOV\"\n",
        "        \n",
        "            embedding_matrix[i] = embedding_vector\n",
        "            hits = hits + 1\n",
        "        else:\n",
        "            misses = misses + 1\n",
        "    print(\"Converted %d words (%d misses)\" % (hits, misses))\n",
        "    return embedding_matrix"
      ]
    },
    {
      "cell_type": "code",
      "execution_count": null,
      "metadata": {
        "id": "KZ2odPzUgfh5"
      },
      "outputs": [],
      "source": [
        "# Turns array of integers into an array of embeddings\n",
        "# Embedding Layer takes input array of shape (batch_size, MAX_SEQUENCE_LENGTH) and outputs array of shape (batch_size, MAX_SEQUENCE_LENGTH, EMBEDDING_DIM)\n",
        "EMBEDDING_DIM = 100\n",
        "\n",
        "# embedding_matrix = get_embeddings(embeddings_path)\n",
        "# np.save(output_path / 'embedding_matrix', embedding_matrix)\n",
        "\n",
        "# the above commented-out code gave output: Converted 6800984 words (0 misses)\n",
        "# it takes more than 10 minutes so we will save time by \n",
        "# loading an already processed matrix\n",
        "embedding_matrix = np.load(output_path / 'embedding_matrix.npy')"
      ]
    },
    {
      "cell_type": "markdown",
      "metadata": {
        "id": "8hYQV2_vgfh6"
      },
      "source": [
        "# Create Model"
      ]
    },
    {
      "cell_type": "code",
      "execution_count": null,
      "metadata": {
        "id": "7yB84fvZTiTo"
      },
      "outputs": [],
      "source": [
        "def tilted_loss(q,y,f):\n",
        "    e = (y-f)\n",
        "    return K.mean(K.maximum(q*e, (q-1)*e), axis=-1)\n",
        "\n",
        "def build_model():\n",
        "\n",
        "  input_layer = tfl.Input(shape=(1,), name=\"input\", dtype=tf.string)\n",
        "\n",
        "  x = vectorize_layer(input_layer)\n",
        "  print(x)\n",
        "  # Embedding layer\n",
        "  embedding_layer = tfl.Embedding(input_dim = VOCAB_SIZE, \n",
        "                                output_dim = EMBEDDING_DIM, \n",
        "                                input_length=MAX_SEQUENCE_LENGTH,\n",
        "                                embeddings_initializer = tf.keras.initializers.Constant(embedding_matrix),\n",
        "                                trainable=False)(x)\n",
        "  \n",
        "  lstm_layer1 = tfl.LSTM(1024, name=\"lstm1\", use_bias=True, kernel_regularizer=l1(1e-6), bias_regularizer=l1(1e-6))(embedding_layer)\n",
        "  lstm_layer2 = tfl.LSTM(1024, name=\"lstm2\", use_bias=True, kernel_regularizer=l1(1e-7), bias_regularizer=l1(1e-7))(embedding_layer)\n",
        "  \n",
        "  dense_layer1a = tfl.Dense(256, name=\"middle1a\", activation='leaky_relu')(lstm_layer1)\n",
        "  dense_layer2a = tfl.Dense(256, name=\"middle2a\", activation='leaky_relu')(lstm_layer2)\n",
        "\n",
        "  dense_layer1b = tfl.Dense(64, name=\"middle1b\", activation='leaky_relu')(dense_layer1a)\n",
        "  dense_layer2b = tfl.Dense(64, name=\"middle2b\", activation='leaky_relu')(dense_layer2a)\n",
        "  \n",
        "  lat_pred = tfl.Dense(1, name=\"latitude\")(dense_layer1b)\n",
        "  lon_pred = tfl.Dense(1, name=\"longitude\")(dense_layer2b)\n",
        "\n",
        "  model = tf.keras.Model(inputs=input_layer, outputs=[lat_pred,lon_pred])\n",
        "\n",
        "  lr_schedule = tf.keras.optimizers.schedules.ExponentialDecay(\n",
        "    0.01, decay_steps=1000, decay_rate=0.96, staircase=True\n",
        "  )\n",
        "  optimizer = tf.keras.optimizers.Adam()\n",
        "\n",
        "  quantile = 0.5\n",
        "  model.compile(loss=lambda y,f: tilted_loss(quantile,y,f),\n",
        "               optimizer=optimizer, metrics=['accuracy'])\n",
        "  # model.compile(loss=tf.keras.losses.MeanSquaredError(), optimizer=optimizer)\n",
        "\n",
        "  return model"
      ]
    },
    {
      "cell_type": "code",
      "execution_count": null,
      "metadata": {
        "colab": {
          "base_uri": "https://localhost:8080/",
          "height": 1000
        },
        "id": "XQpgnXx5gfh7",
        "outputId": "5f5359c9-ed55-4ae9-eb7c-710d5d1ccca2"
      },
      "outputs": [
        {
          "name": "stdout",
          "output_type": "stream",
          "text": [
            "KerasTensor(type_spec=TensorSpec(shape=(None, 250), dtype=tf.int64, name=None), name='text_vectorization_1/RaggedToTensor/RaggedTensorToTensor:0', description=\"created by layer 'text_vectorization_1'\")\n",
            "Model: \"model_1\"\n",
            "__________________________________________________________________________________________________\n",
            " Layer (type)                   Output Shape         Param #     Connected to                     \n",
            "==================================================================================================\n",
            " input (InputLayer)             [(None, 1)]          0           []                               \n",
            "                                                                                                  \n",
            " text_vectorization_1 (TextVect  (None, 250)         0           ['input[0][0]']                  \n",
            " orization)                                                                                       \n",
            "                                                                                                  \n",
            " embedding_1 (Embedding)        (None, 250, 100)     38318500    ['text_vectorization_1[0][0]']   \n",
            "                                                                                                  \n",
            " lstm1 (LSTM)                   (None, 1024)         4608000     ['embedding_1[0][0]']            \n",
            "                                                                                                  \n",
            " lstm2 (LSTM)                   (None, 1024)         4608000     ['embedding_1[0][0]']            \n",
            "                                                                                                  \n",
            " middle1a (Dense)               (None, 256)          262400      ['lstm1[0][0]']                  \n",
            "                                                                                                  \n",
            " middle2a (Dense)               (None, 256)          262400      ['lstm2[0][0]']                  \n",
            "                                                                                                  \n",
            " middle1b (Dense)               (None, 64)           16448       ['middle1a[0][0]']               \n",
            "                                                                                                  \n",
            " middle2b (Dense)               (None, 64)           16448       ['middle2a[0][0]']               \n",
            "                                                                                                  \n",
            " latitude (Dense)               (None, 1)            65          ['middle1b[0][0]']               \n",
            "                                                                                                  \n",
            " longitude (Dense)              (None, 1)            65          ['middle2b[0][0]']               \n",
            "                                                                                                  \n",
            "==================================================================================================\n",
            "Total params: 48,092,326\n",
            "Trainable params: 9,773,826\n",
            "Non-trainable params: 38,318,500\n",
            "__________________________________________________________________________________________________\n"
          ]
        },
        {
          "data": {
            "image/png": "[encoded data removed]",
            "text/plain": [
              "<IPython.core.display.Image object>"
            ]
          },
          "execution_count": 33,
          "metadata": {},
          "output_type": "execute_result"
        }
      ],
      "source": [
        "# Make model\n",
        "model = build_model()\n",
        "model.summary()\n",
        "tf.keras.utils.plot_model(model, \"multi_input_and_output_model.png\", show_shapes=True)"
      ]
    },
    {
      "cell_type": "markdown",
      "metadata": {
        "id": "bM_seoCpgfh9"
      },
      "source": [
        "# Train Model"
      ]
    },
    {
      "cell_type": "code",
      "execution_count": null,
      "metadata": {
        "colab": {
          "background_save": true,
          "base_uri": "https://localhost:8080/"
        },
        "id": "hNYu7Gfpgfh9",
        "outputId": "947582fb-b7f1-4c0b-811e-8e764a5bcb1e"
      },
      "outputs": [
        {
          "name": "stdout",
          "output_type": "stream",
          "text": [
            "Epoch 1/2\n",
            "500/500 [==============================] - 82s 148ms/step - loss: 29.5336 - latitude_loss: 5.8694 - longitude_loss: 23.6595 - latitude_accuracy: 0.0000e+00 - longitude_accuracy: 0.0000e+00\n",
            "Epoch 2/2\n",
            "500/500 [==============================] - 74s 147ms/step - loss: 29.1667 - latitude_loss: 5.7256 - longitude_loss: 23.4390 - latitude_accuracy: 0.0000e+00 - longitude_accuracy: 0.0000e+00\n"
          ]
        }
      ],
      "source": [
        "# cp_callback = tf.keras.callbacks.ModelCheckpoint(filepath='cp.ckpt',\n",
        "#                                                  save_weights_only=False,\n",
        "#                                                  verbose=1)\n",
        "\n",
        "history = model.fit(trainingData.batch(20), epochs=2)\n",
        "\n",
        "# model.load_weights(current_dir / 'trained_model/checkpoint')"
      ]
    },
    {
      "cell_type": "markdown",
      "metadata": {
        "id": "kxNYGyFhiCM1"
      },
      "source": [
        "## Evaluate on Dev set"
      ]
    },
    {
      "cell_type": "code",
      "execution_count": null,
      "metadata": {
        "colab": {
          "background_save": true
        },
        "id": "_bjVaIANh7Uh",
        "outputId": "83198434-3445-4b75-e630-b0a1da7d859c"
      },
      "outputs": [
        {
          "name": "stdout",
          "output_type": "stream",
          "text": [
            "100/100 [==============================] - 14s 133ms/step - loss: 28.9019 - latitude_loss: 5.6549 - longitude_loss: 23.2452 - latitude_accuracy: 0.0000e+00 - longitude_accuracy: 0.0000e+00\n"
          ]
        },
        {
          "data": {
            "text/plain": [
              "[28.901859283447266, 5.654868125915527, 23.245210647583008, 0.0, 0.0]"
            ]
          },
          "execution_count": null,
          "metadata": {},
          "output_type": "execute_result"
        }
      ],
      "source": [
        "# get dev set\n",
        "data_path = current_dir / Path('geoworld/user_info.dev')\n",
        "\n",
        "# Get datasets from dev file\n",
        "text_ds_test, location_ds_test, testData = loadData(data_path)\n",
        "\n",
        "model.evaluate(testData.batch(100))"
      ]
    },
    {
      "cell_type": "markdown",
      "metadata": {
        "id": "dTq9dWsuiGeF"
      },
      "source": [
        "## Evaluate on Test set"
      ]
    },
    {
      "cell_type": "code",
      "execution_count": null,
      "metadata": {
        "colab": {
          "background_save": true
        },
        "id": "ffqLcwgpgfh-",
        "outputId": "38e6980a-97cd-4a58-d634-c1425f3dd0c9"
      },
      "outputs": [
        {
          "name": "stdout",
          "output_type": "stream",
          "text": [
            "100/100 [==============================] - 13s 129ms/step - loss: 29.0017 - latitude_loss: 5.8349 - longitude_loss: 23.1650 - latitude_accuracy: 0.0000e+00 - longitude_accuracy: 0.0000e+00\n"
          ]
        },
        {
          "data": {
            "text/plain": [
              "[29.00166893005371, 5.834916591644287, 23.164974212646484, 0.0, 0.0]"
            ]
          },
          "execution_count": null,
          "metadata": {},
          "output_type": "execute_result"
        }
      ],
      "source": [
        "# get test set\n",
        "data_path = current_dir / Path('geoworld/user_info.test')\n",
        "\n",
        "# Get datasets from test file\n",
        "text_ds_test, location_ds_test, testData = loadData(data_path)\n",
        "  \n",
        "model.evaluate(testData.batch(100))"
      ]
    },
    {
      "cell_type": "markdown",
      "metadata": {
        "id": "ZsCQZd7NzTwL"
      },
      "source": [
        "## Check Predictions\n",
        "\n",
        "Check predictions for the first 20 samples in the training set."
      ]
    },
    {
      "cell_type": "code",
      "execution_count": null,
      "metadata": {
        "colab": {
          "background_save": true
        },
        "id": "KSbnRy7_Foyv",
        "outputId": "98accc9d-b8ac-4772-aa5f-36b61355d8a5"
      },
      "outputs": [
        {
          "name": "stdout",
          "output_type": "stream",
          "text": [
            "[29.76328] [-95.36327]\n",
            "[32.29876] [-90.18481]\n",
            "[39.17316] [-77.27165]\n",
            "[51.51279] [-0.09184]\n",
            "[38.58157] [-121.4944]\n",
            "[-2.91673] [104.7458]\n",
            "[-0.8917] [119.8707]\n",
            "[39.04372] [-77.48749]\n",
            "[39.29038] [-76.61219]\n",
            "[44.97997] [-93.26384]\n",
            "[30.26715] [-97.74306]\n",
            "[30.69436] [-88.04305]\n",
            "[44.97997] [-93.26384]\n",
            "[39.70471] [-105.08137]\n",
            "[47.65966] [-117.42908]\n",
            "[-1.45583] [-48.50444]\n",
            "[-3.32442] [114.591]\n",
            "[30.69436] [-88.04305]\n",
            "[34.00071] [-81.03481]\n",
            "[55.86515] [-4.25763]\n"
          ]
        }
      ],
      "source": [
        "for item in trainingData.batch(1).take(20):\n",
        "  print(item[1][0].numpy(), item[1][1].numpy())"
      ]
    },
    {
      "cell_type": "code",
      "execution_count": null,
      "metadata": {
        "colab": {
          "background_save": true
        },
        "id": "gItNTVttmRPX"
      },
      "outputs": [],
      "source": [
        "pred = model.predict(trainingData.batch(1).take(20))"
      ]
    },
    {
      "cell_type": "code",
      "execution_count": null,
      "metadata": {
        "colab": {
          "background_save": true
        },
        "id": "0g3j8YDVVwqv",
        "outputId": "ac6c34e3-cc34-4216-9e7b-456bdabb2fd2"
      },
      "outputs": [
        {
          "name": "stdout",
          "output_type": "stream",
          "text": [
            "[40.384758] [-79.019264]\n",
            "[40.384758] [-79.019264]\n",
            "[40.384758] [-79.019264]\n",
            "[40.384758] [-79.019264]\n",
            "[40.385128] [-79.020515]\n",
            "[40.384758] [-79.019264]\n",
            "[40.384758] [-79.019264]\n",
            "[40.384758] [-79.019264]\n",
            "[40.385082] [-79.01992]\n",
            "[40.384758] [-79.019264]\n",
            "[40.38475] [-79.02034]\n",
            "[40.385098] [-79.02023]\n",
            "[40.38531] [-79.01961]\n",
            "[40.384983] [-79.01904]\n",
            "[40.384758] [-79.019264]\n",
            "[40.384758] [-79.019264]\n",
            "[40.385178] [-79.01952]\n",
            "[40.385338] [-79.019615]\n",
            "[40.384758] [-79.019264]\n",
            "[40.385326] [-79.01919]\n"
          ]
        }
      ],
      "source": [
        "for i in range(len(pred[0])):\n",
        "  print(pred[0][i], pred[1][i])"
      ]
    },
    {
      "cell_type": "markdown",
      "metadata": {
        "id": "PigrGQSu7Ni7"
      },
      "source": [
        "## How many within 100 miles?\n",
        "\n",
        "Calculate what percentage of predictions are within 100 miles of their actual location."
      ]
    },
    {
      "cell_type": "code",
      "execution_count": null,
      "metadata": {
        "id": "NY4tgr2zAKP-"
      },
      "outputs": [],
      "source": [
        "def haversine_km(lat1, lon1, lat2, lon2):\n",
        "  R = 6372.795\n",
        "  dlat = math.radians(lat2-lat1)\n",
        "  dlon = math.radians(lon2-lon1)\n",
        "  a = math.sin(dlat/2) * math.sin(dlat/2) + math.cos(math.radians(lat1)) * math.cos(math.radians(lat2)) * math.sin(dlon/2) * math.sin(dlon/2)\n",
        "  c = 2 * math.atan2(math.sqrt(a), math.sqrt(1-a))\n",
        "  return R * c\n",
        "\n",
        "pred = model.predict(testData.batch(100))"
      ]
    },
    {
      "cell_type": "code",
      "execution_count": null,
      "metadata": {
        "id": "nZ93iKLxGSga"
      },
      "outputs": [],
      "source": [
        ""
      ]
    }
  ],
  "metadata": {
    "accelerator": "GPU",
    "colab": {
      "collapsed_sections": [],
      "name": "FYP.ipynb",
      "provenance": [],
      "authorship_tag": "ABX9TyPRLNBu+0gLoF52FWtLxtn3",
      "include_colab_link": true
    },
    "kernelspec": {
      "display_name": "Python 3",
      "name": "python3"
    },
    "language_info": {
      "name": "python"
    }
  },
  "nbformat": 4,
  "nbformat_minor": 0
}